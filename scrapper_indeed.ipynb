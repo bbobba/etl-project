{
 "cells": [
  {
   "cell_type": "code",
   "execution_count": 1,
   "metadata": {},
   "outputs": [],
   "source": [
    "# Dependencies\n",
    "from bs4 import BeautifulSoup\n",
    "import requests\n",
    "from splinter import Browser\n",
    "import time\n",
    "\n",
    "import pandas as pd\n",
    "from sqlalchemy import create_engine\n",
    "import pymysql\n",
    "pymysql.install_as_MySQLdb()"
   ]
  },
  {
   "cell_type": "code",
   "execution_count": 2,
   "metadata": {},
   "outputs": [
    {
     "name": "stdout",
     "output_type": "stream",
     "text": [
      "/usr/local/bin/chromedriver\r\n"
     ]
    }
   ],
   "source": [
    "!which chromedriver"
   ]
  },
  {
   "cell_type": "code",
   "execution_count": 3,
   "metadata": {},
   "outputs": [],
   "source": [
    "executable_path = {'executable_path': '/usr/local/bin/chromedriver'}\n",
    "browser = Browser('chrome', **executable_path, headless=False)"
   ]
  },
  {
   "cell_type": "markdown",
   "metadata": {},
   "source": [
    "### Scraping each result page"
   ]
  },
  {
   "cell_type": "code",
   "execution_count": 4,
   "metadata": {},
   "outputs": [],
   "source": [
    "# URL of page to be scraped\n",
    "url = 'https://www.indeed.com/jobs?q=data%20analyst&l=austin'\n",
    "browser.visit(url)"
   ]
  },
  {
   "cell_type": "code",
   "execution_count": 5,
   "metadata": {},
   "outputs": [],
   "source": [
    "title_list=[]\n",
    "company_list=[]\n",
    "location_list=[]\n",
    "link_description_list=[]\n",
    "\n",
    "\n",
    "for x in range(1, 75):\n",
    "    \n",
    "    html = browser.html\n",
    "    soup = BeautifulSoup(html, 'html.parser')\n",
    "    results = soup.find_all('div', class_=\"jobsearch-SerpJobCard\")\n",
    "    \n",
    "    \n",
    "    for result in results:\n",
    "    \n",
    "        title=result.a['title']\n",
    "        title_list.append(title)\n",
    "        company=result.find('span', class_='company').text\n",
    "        company_list.append(company)\n",
    "        location=result.find(class_='location').text\n",
    "        location_list.append(location)\n",
    "        link_description=result.a['href']\n",
    "        link_description_list.append(link_description)\n",
    "        \n",
    "        #print('page:', x, '-------------')\n",
    "        #print(title)\n",
    "        #print(company)\n",
    "        #print(location)\n",
    "        #print(link_description)\n",
    "        #print(\"-------------------------\")"
   ]
  },
  {
   "cell_type": "markdown",
   "metadata": {},
   "source": [
    "#### Create Pandas DataFrame"
   ]
  },
  {
   "cell_type": "code",
   "execution_count": 6,
   "metadata": {},
   "outputs": [],
   "source": [
    "job_postings_df = pd.DataFrame({\n",
    "    \"Job Title\": title_list,\n",
    "    \"Company\": company_list,\n",
    "    \"Location\": location_list,\n",
    "    \"Job URL\": link_description_list\n",
    "})"
   ]
  },
  {
   "cell_type": "code",
   "execution_count": 7,
   "metadata": {},
   "outputs": [
    {
     "data": {
      "text/html": [
       "<div>\n",
       "<style scoped>\n",
       "    .dataframe tbody tr th:only-of-type {\n",
       "        vertical-align: middle;\n",
       "    }\n",
       "\n",
       "    .dataframe tbody tr th {\n",
       "        vertical-align: top;\n",
       "    }\n",
       "\n",
       "    .dataframe thead th {\n",
       "        text-align: right;\n",
       "    }\n",
       "</style>\n",
       "<table border=\"1\" class=\"dataframe\">\n",
       "  <thead>\n",
       "    <tr style=\"text-align: right;\">\n",
       "      <th></th>\n",
       "      <th>Job Title</th>\n",
       "      <th>Company</th>\n",
       "      <th>Location</th>\n",
       "      <th>Job URL</th>\n",
       "    </tr>\n",
       "  </thead>\n",
       "  <tbody>\n",
       "    <tr>\n",
       "      <th>0</th>\n",
       "      <td>Healthcare Data Analyst</td>\n",
       "      <td>\\n\\n        TML MultiState IEBP</td>\n",
       "      <td>Austin, TX 78754</td>\n",
       "      <td>/pagead/clk?mo=r&amp;ad=-6NYlbfkN0D_AngAViu68QezII...</td>\n",
       "    </tr>\n",
       "    <tr>\n",
       "      <th>1</th>\n",
       "      <td>Senior Data Analyst</td>\n",
       "      <td>\\n\\n        ShipStation</td>\n",
       "      <td>Austin, TX 78756 (Rosedale area)</td>\n",
       "      <td>/pagead/clk?mo=r&amp;ad=-6NYlbfkN0CIRWCei1x3jy3uWA...</td>\n",
       "    </tr>\n",
       "    <tr>\n",
       "      <th>2</th>\n",
       "      <td>Search Quality Risk and Fraud Analyst</td>\n",
       "      <td>\\n\\n        Indeed</td>\n",
       "      <td>Austin, TX 78731</td>\n",
       "      <td>/pagead/clk?mo=r&amp;ad=-6NYlbfkN0CiRNM7CVr8YueLFK...</td>\n",
       "    </tr>\n",
       "    <tr>\n",
       "      <th>3</th>\n",
       "      <td>Business Intelligence Analyst</td>\n",
       "      <td>\\n\\n        Indeed</td>\n",
       "      <td>Austin, TX 78731</td>\n",
       "      <td>/pagead/clk?mo=r&amp;ad=-6NYlbfkN0CiRNM7CVr8YueLFK...</td>\n",
       "    </tr>\n",
       "    <tr>\n",
       "      <th>4</th>\n",
       "      <td>TRACS Data Analyst 06-19</td>\n",
       "      <td>\\n\\n        Housing Authority of The City of A...</td>\n",
       "      <td>Austin, TX 78704 (South Lamar-South Congress a...</td>\n",
       "      <td>/rc/clk?jk=c54e5625ad2987c2&amp;fccid=314136e4f82b...</td>\n",
       "    </tr>\n",
       "  </tbody>\n",
       "</table>\n",
       "</div>"
      ],
      "text/plain": [
       "                               Job Title  \\\n",
       "0                Healthcare Data Analyst   \n",
       "1                    Senior Data Analyst   \n",
       "2  Search Quality Risk and Fraud Analyst   \n",
       "3          Business Intelligence Analyst   \n",
       "4               TRACS Data Analyst 06-19   \n",
       "\n",
       "                                             Company  \\\n",
       "0                    \\n\\n        TML MultiState IEBP   \n",
       "1                            \\n\\n        ShipStation   \n",
       "2                                 \\n\\n        Indeed   \n",
       "3                                 \\n\\n        Indeed   \n",
       "4  \\n\\n        Housing Authority of The City of A...   \n",
       "\n",
       "                                            Location  \\\n",
       "0                                   Austin, TX 78754   \n",
       "1                   Austin, TX 78756 (Rosedale area)   \n",
       "2                                   Austin, TX 78731   \n",
       "3                                   Austin, TX 78731   \n",
       "4  Austin, TX 78704 (South Lamar-South Congress a...   \n",
       "\n",
       "                                             Job URL  \n",
       "0  /pagead/clk?mo=r&ad=-6NYlbfkN0D_AngAViu68QezII...  \n",
       "1  /pagead/clk?mo=r&ad=-6NYlbfkN0CIRWCei1x3jy3uWA...  \n",
       "2  /pagead/clk?mo=r&ad=-6NYlbfkN0CiRNM7CVr8YueLFK...  \n",
       "3  /pagead/clk?mo=r&ad=-6NYlbfkN0CiRNM7CVr8YueLFK...  \n",
       "4  /rc/clk?jk=c54e5625ad2987c2&fccid=314136e4f82b...  "
      ]
     },
     "execution_count": 7,
     "metadata": {},
     "output_type": "execute_result"
    }
   ],
   "source": [
    "job_postings_df.head()"
   ]
  },
  {
   "cell_type": "code",
   "execution_count": 8,
   "metadata": {},
   "outputs": [],
   "source": [
    "# Connect to local database\n",
    "rds_connection_string = \"root:KB@127.0.0.1/jobs_db\"\n",
    "engine = create_engine(f'mysql://{rds_connection_string}')"
   ]
  },
  {
   "cell_type": "code",
   "execution_count": 9,
   "metadata": {},
   "outputs": [],
   "source": [
    "# Use pandas to load DataFrame into database\n",
    "job_postings_df.to_sql(name='job_postings', con=engine, if_exists='append', index=False)"
   ]
  },
  {
   "cell_type": "code",
   "execution_count": 10,
   "metadata": {},
   "outputs": [
    {
     "data": {
      "text/html": [
       "<div>\n",
       "<style scoped>\n",
       "    .dataframe tbody tr th:only-of-type {\n",
       "        vertical-align: middle;\n",
       "    }\n",
       "\n",
       "    .dataframe tbody tr th {\n",
       "        vertical-align: top;\n",
       "    }\n",
       "\n",
       "    .dataframe thead th {\n",
       "        text-align: right;\n",
       "    }\n",
       "</style>\n",
       "<table border=\"1\" class=\"dataframe\">\n",
       "  <thead>\n",
       "    <tr style=\"text-align: right;\">\n",
       "      <th></th>\n",
       "      <th>Job Title</th>\n",
       "      <th>Company</th>\n",
       "      <th>Location</th>\n",
       "      <th>Job URL</th>\n",
       "    </tr>\n",
       "  </thead>\n",
       "  <tbody>\n",
       "    <tr>\n",
       "      <th>0</th>\n",
       "      <td>Healthcare Data Analyst</td>\n",
       "      <td>\\n\\n        TML MultiState IEBP</td>\n",
       "      <td>Austin, TX 78754</td>\n",
       "      <td>/pagead/clk?mo=r&amp;ad=-6NYlbfkN0D_AngAViu68QezII...</td>\n",
       "    </tr>\n",
       "    <tr>\n",
       "      <th>1</th>\n",
       "      <td>Senior Data Analyst</td>\n",
       "      <td>\\n\\n        ShipStation</td>\n",
       "      <td>Austin, TX 78756 (Rosedale area)</td>\n",
       "      <td>/pagead/clk?mo=r&amp;ad=-6NYlbfkN0CIRWCei1x3jy3uWA...</td>\n",
       "    </tr>\n",
       "    <tr>\n",
       "      <th>2</th>\n",
       "      <td>Search Quality Risk and Fraud Analyst</td>\n",
       "      <td>\\n\\n        Indeed</td>\n",
       "      <td>Austin, TX 78731</td>\n",
       "      <td>/pagead/clk?mo=r&amp;ad=-6NYlbfkN0CiRNM7CVr8YueLFK...</td>\n",
       "    </tr>\n",
       "    <tr>\n",
       "      <th>3</th>\n",
       "      <td>Business Intelligence Analyst</td>\n",
       "      <td>\\n\\n        Indeed</td>\n",
       "      <td>Austin, TX 78731</td>\n",
       "      <td>/pagead/clk?mo=r&amp;ad=-6NYlbfkN0CiRNM7CVr8YueLFK...</td>\n",
       "    </tr>\n",
       "    <tr>\n",
       "      <th>4</th>\n",
       "      <td>TRACS Data Analyst 06-19</td>\n",
       "      <td>\\n\\n        Housing Authority of The City of A...</td>\n",
       "      <td>Austin, TX 78704 (South Lamar-South Congress a...</td>\n",
       "      <td>/rc/clk?jk=c54e5625ad2987c2&amp;fccid=314136e4f82b...</td>\n",
       "    </tr>\n",
       "  </tbody>\n",
       "</table>\n",
       "</div>"
      ],
      "text/plain": [
       "                               Job Title  \\\n",
       "0                Healthcare Data Analyst   \n",
       "1                    Senior Data Analyst   \n",
       "2  Search Quality Risk and Fraud Analyst   \n",
       "3          Business Intelligence Analyst   \n",
       "4               TRACS Data Analyst 06-19   \n",
       "\n",
       "                                             Company  \\\n",
       "0                    \\n\\n        TML MultiState IEBP   \n",
       "1                            \\n\\n        ShipStation   \n",
       "2                                 \\n\\n        Indeed   \n",
       "3                                 \\n\\n        Indeed   \n",
       "4  \\n\\n        Housing Authority of The City of A...   \n",
       "\n",
       "                                            Location  \\\n",
       "0                                   Austin, TX 78754   \n",
       "1                   Austin, TX 78756 (Rosedale area)   \n",
       "2                                   Austin, TX 78731   \n",
       "3                                   Austin, TX 78731   \n",
       "4  Austin, TX 78704 (South Lamar-South Congress a...   \n",
       "\n",
       "                                             Job URL  \n",
       "0  /pagead/clk?mo=r&ad=-6NYlbfkN0D_AngAViu68QezII...  \n",
       "1  /pagead/clk?mo=r&ad=-6NYlbfkN0CIRWCei1x3jy3uWA...  \n",
       "2  /pagead/clk?mo=r&ad=-6NYlbfkN0CiRNM7CVr8YueLFK...  \n",
       "3  /pagead/clk?mo=r&ad=-6NYlbfkN0CiRNM7CVr8YueLFK...  \n",
       "4  /rc/clk?jk=c54e5625ad2987c2&fccid=314136e4f82b...  "
      ]
     },
     "execution_count": 10,
     "metadata": {},
     "output_type": "execute_result"
    }
   ],
   "source": [
    "# query from sql\n",
    "pd.read_sql_query('select * from job_postings', con=engine).head()"
   ]
  },
  {
   "cell_type": "markdown",
   "metadata": {},
   "source": [
    "### Scraping the description"
   ]
  },
  {
   "cell_type": "code",
   "execution_count": 13,
   "metadata": {},
   "outputs": [],
   "source": [
    "description_url_list = ['http://indeed.com' + url for url in link_description_list]"
   ]
  },
  {
   "cell_type": "code",
   "execution_count": null,
   "metadata": {},
   "outputs": [],
   "source": [
    "description_text_list=[]\n",
    "URL=[]\n",
    "for urls in description_url_list:\n",
    "    URL.append(urls)\n",
    "    response = requests.get(urls)\n",
    "    soup = BeautifulSoup(response.text, 'html.parser')\n",
    "    description_results=soup.find_all('div', class_=\"jobsearch-JobComponent-description\")\n",
    "    for description in description_results:\n",
    "        actual_description=description.text\n",
    "    description_text_list.append(actual_description)\n",
    "#         print(urls)\n",
    "#         print(actual_description)\n",
    "#         print('------------------------')\n",
    "        \n",
    "       "
   ]
  },
  {
   "cell_type": "code",
   "execution_count": null,
   "metadata": {},
   "outputs": [],
   "source": []
  }
 ],
 "metadata": {
  "kernelspec": {
   "display_name": "UT Boot Camp",
   "language": "python",
   "name": "ut_boot_camp"
  },
  "language_info": {
   "codemirror_mode": {
    "name": "ipython",
    "version": 3
   },
   "file_extension": ".py",
   "mimetype": "text/x-python",
   "name": "python",
   "nbconvert_exporter": "python",
   "pygments_lexer": "ipython3",
   "version": "3.6.7"
  }
 },
 "nbformat": 4,
 "nbformat_minor": 2
}
